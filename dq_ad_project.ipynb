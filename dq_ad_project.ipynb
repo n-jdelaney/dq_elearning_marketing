{
 "cells": [
  {
   "cell_type": "markdown",
   "metadata": {
    "collapsed": true
   },
   "source": [
    "# Best Advertising Markets for e-learning\n",
    "\n",
    "The premise for this project is that of a e-learning company looking to invest money in advertising. Mainly offering courses on web and mobile development, the company also covers domains like data science, game development, etc. \n",
    "\n",
    "The main goal of this project is to determine which are the best two markets in which to advertise our product.\n"
   ]
  },
  {
   "cell_type": "code",
   "execution_count": null,
   "metadata": {
    "collapsed": true
   },
   "outputs": [],
   "source": []
  }
 ],
 "metadata": {
  "kernelspec": {
   "display_name": "venv1",
   "language": "python",
   "name": "python3"
  },
  "language_info": {
   "codemirror_mode": {
    "name": "ipython",
    "version": 3
   },
   "file_extension": ".py",
   "mimetype": "text/x-python",
   "name": "python",
   "nbconvert_exporter": "python",
   "pygments_lexer": "ipython3",
   "version": "3.9.13 | packaged by conda-forge | (main, May 27 2022, 17:01:00) \n[Clang 13.0.1 ]"
  },
  "vscode": {
   "interpreter": {
    "hash": "35e893f636ba71a3be78a20d29f2ea7521df2f52a5a6dbd30217cbb87e63334c"
   }
  }
 },
 "nbformat": 4,
 "nbformat_minor": 2
}
